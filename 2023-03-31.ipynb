{
 "cells": [
  {
   "cell_type": "markdown",
   "id": "4fe231a0",
   "metadata": {
    "slideshow": {
     "slide_type": "slide"
    }
   },
   "source": [
    "# Mixed-Integer Programming Reading Group\n",
    "\n",
    "- Weihuang Wen\n",
    "- 2023-03-31"
   ]
  },
  {
   "cell_type": "markdown",
   "id": "84fa0a6c",
   "metadata": {
    "slideshow": {
     "slide_type": "slide"
    }
   },
   "source": [
    "## Outline\n",
    "\n",
    "- What is Mixed-Integer Programming (MIP)\n",
    "- The MIPLIB2017 Benchmark\n",
    "- SCIP Installation\n",
    "- SCIP Tutorial\n",
    "- SCIP Parameters Optimization\n",
    "- Disscusion"
   ]
  },
  {
   "cell_type": "markdown",
   "id": "5452dbbd",
   "metadata": {
    "slideshow": {
     "slide_type": "slide"
    }
   },
   "source": [
    "## What is Mixed-Integer Programming (MIP)\n",
    "\n",
    "\\begin{aligned}&{\\text{maximize}}&&\\mathbf {c} ^{\\mathrm {T} }\\mathbf {x} \\\\&{\\text{subject to}}&&A\\mathbf {x} \\leq \\mathbf {b} ,\\\\&&&\\mathbf {x} \\geq \\mathbf {0} ,\\\\&{\\text{and}}&&\\mathbf {x_i}... \\mathbf {x_j} \\in \\mathbb {Z} ^{n},\\end{aligned}\n",
    "\n",
    "\n",
    "\n",
    "<!-- ![LP](https://upload.wikimedia.org/wikipedia/commons/0/06/IP_polytope_with_LP_relaxation.svg) -->"
   ]
  },
  {
   "cell_type": "markdown",
   "id": "d688d589",
   "metadata": {
    "slideshow": {
     "slide_type": "slide"
    }
   },
   "source": [
    "## What is Mixed-Integer Programming (MIP)\n",
    "\n",
    "\n",
    "\\begin{aligned}\\max &{\\text{ }}y\\\\-x+y&\\leq 1\\\\3x+2y&\\leq 12\\\\2x+3y&\\leq 12\\\\x,y&\\geq 0\\\\x,y&\\in \\mathbb {Z} \\end{aligned}\n",
    "\n",
    "<div align=\"center\">\n",
    "  <img src=\"https://upload.wikimedia.org/wikipedia/commons/0/06/IP_polytope_with_LP_relaxation.svg\" />\n",
    "</div>\n"
   ]
  },
  {
   "cell_type": "markdown",
   "id": "944aad12",
   "metadata": {
    "slideshow": {
     "slide_type": "slide"
    }
   },
   "source": [
    "## How to solve MIP\n",
    "\n",
    "- [Branch and bound](https://en.wikipedia.org/wiki/Branch_and_bound)\n",
    "- [Cutting-plane method](https://en.wikipedia.org/wiki/Cutting-plane_method)\n",
    "- [Branch and cut](https://en.wikipedia.org/wiki/Branch_and_cut)"
   ]
  },
  {
   "cell_type": "markdown",
   "id": "afe02e59",
   "metadata": {
    "slideshow": {
     "slide_type": "slide"
    }
   },
   "source": [
    "## The MIPLIB2017 Benchmark\n",
    "\n",
    "- [The Mixed Integer Programming Library](https://miplib.zib.de/index.html)\n",
    "- [MPS (format)](https://en.wikipedia.org/wiki/MPS_(format))\n",
    "- [Hans Mittelmann Benchmark](http://plato.asu.edu/ftp/milp.html)\n"
   ]
  },
  {
   "cell_type": "markdown",
   "id": "e4437d94",
   "metadata": {
    "slideshow": {
     "slide_type": "slide"
    }
   },
   "source": [
    "## SCIP Compile and Installation\n",
    "\n",
    "1. Download the source code of [scipoptsuite-8.0.3.tgz](https://www.scipopt.org/download.php?fname=scipoptsuite-8.0.3.tgz)\n",
    "2. Build and install the scipoptsuite following [documentation](https://scipopt.org/doc/html/md_INSTALL.php) and README\n",
    "\n",
    "```bash\n",
    "brew install bison # (optional) \n",
    "export PATH=\"$(brew --prefix bison)/bin:$PATH\" # (optional) \n",
    "mkdir build\n",
    "cd build\n",
    "cmake .. -DAUTOBUILD=on\n",
    "make # start compiling SCIP\n",
    "make check # (recommended) check build\n",
    "make install # (optional) install SCIP executable, library, and headers\n",
    "```"
   ]
  },
  {
   "cell_type": "markdown",
   "id": "38e43f84",
   "metadata": {
    "slideshow": {
     "slide_type": "slide"
    }
   },
   "source": [
    "## SCIP Tutorial\n",
    "\n",
    "1. [The interactive shell](https://scipopt.org/doc/html/SHELL.php)\n",
    "2. [Programming with SCIP](https://scipopt.org/doc/html/PROGRAMMING.php)\n",
    "3. [Interfaces](https://scipopt.org/doc/html/INTERFACES.php)\n"
   ]
  },
  {
   "cell_type": "markdown",
   "id": "eb7882f1",
   "metadata": {
    "slideshow": {
     "slide_type": "slide"
    }
   },
   "source": [
    "## PySCIPOpt\n",
    "\n",
    "1. [installation/demo](https://github.com/scipopt/PySCIPOpt)\n",
    "**DO NOT use the Conda BASE environment to install PYSCIPOPT.**\n",
    "2. [List of all SCIP parameters](https://www.scipopt.org/doc-5.0.1/html/PARAMETERS.php)\n",
    "3. [PySCIPOpt parameters setting](https://stackoverflow.com/questions/49371265/set-mip-termination-gap-with-pyscipopt)\n",
    "4. [Bayesian Optimization](https://github.com/fmfn/BayesianOptimization)"
   ]
  },
  {
   "cell_type": "code",
   "execution_count": 3,
   "id": "be587cdf",
   "metadata": {
    "slideshow": {
     "slide_type": "slide"
    }
   },
   "outputs": [
    {
     "name": "stdout",
     "output_type": "stream",
     "text": [
      "x: 1.0feasible solution found by trivial heuristic after 0.0 seconds, objective value 0.000000e+00\n",
      "presolving:\n",
      "\n",
      "y: 2.0\n",
      "(round 1, fast)       0 del vars, 2 del conss, 0 add conss, 3 chg bounds, 0 chg sides, 0 chg coeffs, 0 upgd conss, 0 impls, 0 clqs\n",
      "(round 2, fast)       1 del vars, 5 del conss, 0 add conss, 6 chg bounds, 1 chg sides, 0 chg coeffs, 0 upgd conss, 0 impls, 0 clqs\n",
      "presolving (3 rounds: 3 fast, 1 medium, 1 exhaustive):\n",
      " 2 deleted vars, 5 deleted constraints, 0 added constraints, 6 tightened bounds, 0 added holes, 1 changed sides, 0 changed coefficients\n",
      " 0 implications, 0 cliques\n",
      "transformed 1/2 original solutions to the transformed problem space\n",
      "Presolving Time: 0.00\n",
      "\n",
      "SCIP Status        : problem is solved [optimal solution found]\n",
      "Solving Time (sec) : 0.00\n",
      "Solving Nodes      : 0\n",
      "Primal Bound       : +2.00000000000000e+00 (2 solutions)\n",
      "Dual Bound         : +2.00000000000000e+00\n",
      "Gap                : 0.00 %\n"
     ]
    }
   ],
   "source": [
    "from pyscipopt import Model\n",
    "\n",
    "\n",
    "model = Model(\"Example\")  # model name is optional\n",
    "\n",
    "x = model.addVar(\"x\", vtype=\"INTEGER\")\n",
    "y = model.addVar(\"y\", vtype=\"INTEGER\")\n",
    "\n",
    "model.setObjective(y, \"maximize\")\n",
    "model.addCons(-1*x + y <= 1)\n",
    "model.addCons(3*x + 2*y <= 12)\n",
    "model.addCons(2*x + 3*y <= 12)\n",
    "model.addCons(x >= 0)\n",
    "model.addCons(y >= 0)\n",
    "\n",
    "model.optimize()\n",
    "sol = model.getBestSol()\n",
    "print(\"x: {}\".format(sol[x]))\n",
    "print(\"y: {}\".format(sol[y]))"
   ]
  },
  {
   "cell_type": "code",
   "execution_count": null,
   "id": "c8917232",
   "metadata": {
    "slideshow": {
     "slide_type": "slide"
    }
   },
   "outputs": [],
   "source": [
    "from pyscipopt import Model\n",
    "\n",
    "\n",
    "model = Model(\"30n20b8\")  # model name is optional\n",
    "model.readProblem('/Users/wenweihuang/Workspace/mip2017/benchmark/30n20b8.mps')\n",
    "model.optimize()"
   ]
  },
  {
   "cell_type": "code",
   "execution_count": null,
   "id": "05c0021e",
   "metadata": {
    "slideshow": {
     "slide_type": "slide"
    }
   },
   "outputs": [],
   "source": [
    "# PySCIPOpt parameters setting\n",
    "from pyscipopt import Model\n",
    "\n",
    "\n",
    "model = Model(\"30n20b8\")  # model name is optional\n",
    "model.readProblem('/Users/wenweihuang/Workspace/mip2017/benchmark/30n20b8.mps')\n",
    "\n",
    "model.setBoolParam('concurrent/changeseeds', False)\n",
    "model.setIntParam('conflict/minmaxvars', 0)\n",
    "model.setLongintParam('limits/nodes', -1)\n",
    "model.setRealParam('limits/time', 1e+20)\n",
    "model.setCharParam('branching/scorefunc', 's')\n",
    "\n",
    "model.optimize()"
   ]
  },
  {
   "cell_type": "markdown",
   "id": "2c6a963c",
   "metadata": {
    "slideshow": {
     "slide_type": "slide"
    }
   },
   "source": [
    "## Disscusion\n",
    "\n",
    "- [ML for MIP](https://github.com/Thinklab-SJTU/awesome-ml4co#mixed-integer-programming)\n",
    "  - [Learning to Search in Branch-and-Bound Algorithms](https://proceedings.neurips.cc/paper_files/paper/2014/hash/757f843a169cc678064d9530d12a1881-Abstract.html)\n",
    "  - [Hybrid Models for Learning to Branch](https://arxiv.org/abs/2006.15212)\n",
    "  - [Solving Mixed Integer Programs Using Neural Networks](https://arxiv.org/abs/2012.13349)\n",
    "    - [用神经网络解决NP-hard的MIP问题](https://zhuanlan.zhihu.com/p/397187466)\n",
    "    - [评DeepMind近期神经网络求解MIP的论文](https://zhuanlan.zhihu.com/p/400410726)\n",
    "  - [A GNN-Guided Predict-and-Search Framework for Mixed-Integer Linear Programming](https://openreview.net/forum?id=pHMpgT5xWaE)\n",
    "    - [code](https://github.com/sribdcn/Predict-and-Search_MILP_method)\n",
    "- Future Plan"
   ]
  }
 ],
 "metadata": {
  "celltoolbar": "Slideshow",
  "kernelspec": {
   "display_name": "Python 3 (ipykernel)",
   "language": "python",
   "name": "python3"
  },
  "language_info": {
   "codemirror_mode": {
    "name": "ipython",
    "version": 3
   },
   "file_extension": ".py",
   "mimetype": "text/x-python",
   "name": "python",
   "nbconvert_exporter": "python",
   "pygments_lexer": "ipython3",
   "version": "3.11.1"
  }
 },
 "nbformat": 4,
 "nbformat_minor": 5
}
